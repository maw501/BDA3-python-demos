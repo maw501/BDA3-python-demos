{
 "cells": [
  {
   "cell_type": "code",
   "execution_count": 1,
   "metadata": {
    "collapsed": false,
    "jupyter": {
     "outputs_hidden": false
    }
   },
   "outputs": [],
   "source": [
    "import numpy as np\n",
    "from scipy import stats\n",
    "\n",
    "%matplotlib inline\n",
    "import matplotlib.pyplot as plt\n",
    "\n",
    "import os, sys\n",
    "\n",
    "util_path = os.path.abspath(os.path.join(os.path.pardir, \"utilities_and_data\"))\n",
    "if util_path not in sys.path and os.path.exists(util_path):\n",
    "    sys.path.insert(0, util_path)\n",
    "\n",
    "import plot_tools\n",
    "\n",
    "plt.rc(\"font\", size=12)"
   ]
  },
  {
   "cell_type": "markdown",
   "metadata": {},
   "source": [
    "### Bayesian Data Analysis, 3rd ed\n",
    "##  Chapter 6, demo 1\n",
    "\n",
    "Posterior predictive checking demo for the light speed example, section 6.3 p. 143. \n",
    "\n",
    "This is also covered in [demo 3.5](../demos_ch3/demo3_5.ipynb) and first introduced in BDA3 on page 66."
   ]
  },
  {
   "cell_type": "markdown",
   "metadata": {},
   "source": [
    "### Load data and set-up"
   ]
  },
  {
   "cell_type": "markdown",
   "metadata": {},
   "source": [
    "The light speed data is a dataset with 66 data-points representing measurements from Newcomb's experiment in 1882. The experiment was to measure the time taken for light to travel a distance of 7,442 metres."
   ]
  },
  {
   "cell_type": "code",
   "execution_count": 2,
   "metadata": {
    "collapsed": false,
    "jupyter": {
     "outputs_hidden": false
    }
   },
   "outputs": [],
   "source": [
    "data_path = os.path.abspath(\n",
    "    os.path.join(os.path.pardir, \"utilities_and_data\", \"light.txt\")\n",
    ")\n",
    "y = np.loadtxt(data_path)"
   ]
  },
  {
   "cell_type": "markdown",
   "metadata": {},
   "source": [
    "Calculate sufficient statistics. Note `ddof=1` is used to get the sample variance:"
   ]
  },
  {
   "cell_type": "code",
   "execution_count": 3,
   "metadata": {
    "collapsed": false,
    "jupyter": {
     "outputs_hidden": false
    }
   },
   "outputs": [],
   "source": [
    "n = len(y)\n",
    "s2 = np.var(y, ddof=1)\n",
    "s = np.sqrt(s2)\n",
    "my = np.mean(y)"
   ]
  },
  {
   "cell_type": "markdown",
   "metadata": {},
   "source": [
    "Let's have a peek at the data:"
   ]
  },
  {
   "cell_type": "code",
   "execution_count": 4,
   "metadata": {},
   "outputs": [
    {
     "data": {
      "image/png": "[encoded data removed]",
      "text/plain": [
       "<Figure size 432x288 with 1 Axes>"
      ]
     },
     "metadata": {
      "needs_background": "light"
     },
     "output_type": "display_data"
    }
   ],
   "source": [
    "plt.hist(y, bins=15);"
   ]
  },
  {
   "cell_type": "markdown",
   "metadata": {},
   "source": [
    "### Posterior predictive checking"
   ]
  },
  {
   "cell_type": "markdown",
   "metadata": {},
   "source": [
    "The model is a 1d example of a normal model with unknown mean and variance.\n",
    "\n",
    "Assuming a normal likelihood the posterior predictive distribution is a student-t distribution with:\n",
    "\n",
    "$$\\tilde{y} \\mid y \\sim t_{n-1}(\\bar{y}, \\, s \\, (1 + \\frac{1}{n})^{\\frac{1}{2}}).$$"
   ]
  },
  {
   "cell_type": "markdown",
   "metadata": {},
   "source": [
    "We create 9 replicate datasets from the posterior predictive density of the same size as the original dataset."
   ]
  },
  {
   "cell_type": "code",
   "execution_count": 5,
   "metadata": {
    "collapsed": false,
    "jupyter": {
     "outputs_hidden": false
    }
   },
   "outputs": [],
   "source": [
    "replicates = (\n",
    "    np.random.standard_t(n - 1, size=(9, n)) * np.sqrt(1 + 1 / n) * s + my\n",
    ")"
   ]
  },
  {
   "cell_type": "markdown",
   "metadata": {},
   "source": [
    "Now plot them in a random order:"
   ]
  },
  {
   "cell_type": "code",
   "execution_count": 6,
   "metadata": {
    "collapsed": false,
    "jupyter": {
     "outputs_hidden": false
    }
   },
   "outputs": [
    {
     "data": {
      "image/png": "[encoded data removed]",
      "text/plain": [
       "<Figure size 648x864 with 10 Axes>"
      ]
     },
     "metadata": {
      "needs_background": "light"
     },
     "output_type": "display_data"
    }
   ],
   "source": [
    "fig, axes = plt.subplots(5, 2, sharex=True, sharey=True, figsize=(9, 12))\n",
    "fig.subplots_adjust(top=0.95, wspace=0.4)\n",
    "order = np.random.permutation(10)\n",
    "for i, ax in enumerate(axes.flat):\n",
    "    ax.hist(replicates[order[i]] if order[i] < 9 else y, np.arange(-45, 55, 5))\n",
    "    plot_tools.modify_axes.only_x(ax)\n",
    "axes[0, 0].set_xlim([-50, 58])\n",
    "fig.suptitle(\n",
    "    \"Light speed example: Observed data + Replicated datasets.\\n\"\n",
    "    \"Can you spot which one is the observed data?\"\n",
    ");"
   ]
  },
  {
   "cell_type": "markdown",
   "metadata": {},
   "source": [
    "### Compare the minimum of the real data set into the minimum of a replicated dataset.\n",
    "\n",
    "The distribution of the minimum value of a replicated data set can be \n",
    "calculated analytically. Consider $n$ samples of $X_i$, where $X_i$ has cumulative distribution function $F(x)$ and probability distribution function $f(x)$. The cumulative distribution function of the minimum of the $n$ samples is $1 - (1 - F(x))^n$ and the probability distribution function is its derivative $n f(x) (1 - F(x))^{n-1}$.\n",
    "\n",
    "The expression $1 - (1 - F(x))^n$ is the [order statistic](https://en.wikipedia.org/wiki/Order_statistic) for the minimum."
   ]
  },
  {
   "cell_type": "code",
   "execution_count": 7,
   "metadata": {
    "collapsed": false,
    "jupyter": {
     "outputs_hidden": false
    }
   },
   "outputs": [],
   "source": [
    "x = np.linspace(-60, 20, 150)\n",
    "pdf = stats.t.pdf(x, df=n - 1, loc=my, scale=np.sqrt(s2 * (1 + 1 / n)))\n",
    "cdf = stats.t.cdf(x, df=n - 1, loc=my, scale=np.sqrt(s2 * (1 + 1 / n)))\n",
    "pdf_min = n * pdf * (1 - cdf) ** (n - 1)"
   ]
  },
  {
   "cell_type": "markdown",
   "metadata": {},
   "source": [
    "Plot the real minimum of the dataset and the distribution of the minimum of a replicate data set."
   ]
  },
  {
   "cell_type": "code",
   "execution_count": 8,
   "metadata": {
    "collapsed": false,
    "jupyter": {
     "outputs_hidden": false
    }
   },
   "outputs": [
    {
     "data": {
      "image/png": "[encoded data removed]",
      "text/plain": [
       "<Figure size 432x288 with 1 Axes>"
      ]
     },
     "metadata": {
      "needs_background": "light"
     },
     "output_type": "display_data"
    }
   ],
   "source": [
    "plt.figure()\n",
    "plot_tools.modify_axes.only_x(plt.gca())\n",
    "plt.plot(\n",
    "    x, pdf_min, label=\"distribution of the minimum of a replicated data set\"\n",
    ")\n",
    "plt.ylim([0, plt.ylim()[1]])  # set y base to zero\n",
    "plt.axvline(\n",
    "    y.min(), color=\"k\", linestyle=\"--\", label=\"minimum of the true data set\"\n",
    ")\n",
    "plt.legend(loc=\"lower center\", bbox_to_anchor=(0.5, 1.05));"
   ]
  },
  {
   "cell_type": "code",
   "execution_count": null,
   "metadata": {},
   "outputs": [],
   "source": []
  }
 ],
 "metadata": {
  "kernelspec": {
   "display_name": "Python 3",
   "language": "python",
   "name": "python3"
  },
  "language_info": {
   "codemirror_mode": {
    "name": "ipython",
    "version": 3
   },
   "file_extension": ".py",
   "mimetype": "text/x-python",
   "name": "python",
   "nbconvert_exporter": "python",
   "pygments_lexer": "ipython3",
   "version": "3.8.3"
  }
 },
 "nbformat": 4,
 "nbformat_minor": 4
}
