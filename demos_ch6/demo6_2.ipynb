{
 "cells": [
  {
   "cell_type": "code",
   "execution_count": 1,
   "metadata": {
    "collapsed": false,
    "jupyter": {
     "outputs_hidden": false
    }
   },
   "outputs": [],
   "source": [
    "import numpy as np\n",
    "\n",
    "%matplotlib inline\n",
    "import matplotlib.pyplot as plt\n",
    "\n",
    "import os, sys\n",
    "\n",
    "util_path = os.path.abspath(os.path.join(os.path.pardir, \"utilities_and_data\"))\n",
    "if util_path not in sys.path and os.path.exists(util_path):\n",
    "    sys.path.insert(0, util_path)\n",
    "\n",
    "import plot_tools\n",
    "\n",
    "plt.rc(\"font\", size=12)"
   ]
  },
  {
   "cell_type": "markdown",
   "metadata": {},
   "source": [
    "### Bayesian data analysis\n",
    "##  Chapter 6, demo 2\n",
    "\n",
    "Posterior predictive checking for binomial data - testing sequential dependence example based on BDA3 p. 147.\n",
    "\n",
    "The idea is to calculate a test quantity on the actual data and compare it to the same test quantity calculated across simulated datasets from the posterior predictive distribution.\n",
    "\n",
    "To check whether there is autocorrelation in a dataset which represents a sequence of binary outcomes we can count the number of times the data \"switches\" i.e. we go from a 0 to 1 or vice versa.\n",
    "\n",
    "It happens 3 times in the observed data."
   ]
  },
  {
   "cell_type": "code",
   "execution_count": 2,
   "metadata": {
    "collapsed": false,
    "jupyter": {
     "outputs_hidden": false
    }
   },
   "outputs": [
    {
     "data": {
      "text/plain": [
       "3"
      ]
     },
     "execution_count": 2,
     "metadata": {},
     "output_type": "execute_result"
    }
   ],
   "source": [
    "y = np.array([1, 1, 0, 0, 0, 0, 0, 1, 1, 1, 1, 1, 0, 0, 0, 0, 0, 0, 0, 0])\n",
    "Ty = np.count_nonzero(np.diff(y))\n",
    "Ty"
   ]
  },
  {
   "cell_type": "markdown",
   "metadata": {},
   "source": [
    "With a uniform prior and binomial likelihood the posterior is:\n",
    "\n",
    "$$\\theta \\mid y \\sim \\text{Beta}(s + 1, n - s + 1)$$\n",
    "\n",
    "where $s$ is the number of successes in $n$ trials."
   ]
  },
  {
   "cell_type": "code",
   "execution_count": 3,
   "metadata": {
    "collapsed": false,
    "jupyter": {
     "outputs_hidden": false
    }
   },
   "outputs": [],
   "source": [
    "n = len(y)\n",
    "s = y.sum()"
   ]
  },
  {
   "cell_type": "markdown",
   "metadata": {},
   "source": [
    "### Bayesian p-value (posterior predictive p-value)\n",
    "\n",
    "The Bayesian p-value is defined as the probability that the replicated data could be more extreme that the observed data as measured by a test quantity.\n",
    "\n",
    "We perform the following steps:\n",
    "\n",
    "1. Draw `nsamp` samples from the posterior. We will thus have `nsamp` replicated datasets, one for each draw from the posterior.\n",
    "2. Sample an array uniformly between 0 and 1 of shape `(n, nsamp)`.\n",
    "3. By comparing the draws from the posterior to the uniformly sampled numbers, calculate how many values are below each draw from the posterior. This is the same as sampling from the posterior predictive. Each column of `yr` is now a simulated posterior predictive dataset of the same size as the original dataset.\n",
    "4. Calculate the number of \"switches\" in the replicated datasets.\n",
    "5. Plot the distribution of this compared to the observed number.\n",
    "6. Calculate how often the replicated data produces a value more extreme than the observed data."
   ]
  },
  {
   "cell_type": "code",
   "execution_count": 4,
   "metadata": {
    "collapsed": false,
    "jupyter": {
     "outputs_hidden": false
    }
   },
   "outputs": [],
   "source": [
    "np.random.seed(42)\n",
    "nsamp = 10_000\n",
    "posterior_draws = np.random.beta(s + 1, n - s + 1, size=nsamp)\n",
    "y_replicates = np.random.rand(n, nsamp) < posterior_draws\n",
    "# y_replicates = np.random.binomial(1, t, size=(n, nsamp)) # could also do this\n",
    "Tyr = (np.diff(y_replicates, axis=0) != 0).sum(axis=0)\n",
    "bayesian_p = np.mean(Tyr <= Ty)"
   ]
  },
  {
   "cell_type": "code",
   "execution_count": 5,
   "metadata": {
    "collapsed": false,
    "jupyter": {
     "outputs_hidden": false
    }
   },
   "outputs": [
    {
     "data": {
      "image/png": "[encoded data removed]",
      "text/plain": [
       "<Figure size 432x288 with 1 Axes>"
      ]
     },
     "metadata": {
      "needs_background": "light"
     },
     "output_type": "display_data"
    }
   ],
   "source": [
    "plt.hist(\n",
    "    Tyr,\n",
    "    np.arange(19),\n",
    "    align=\"left\",\n",
    "    label=\"$T(y_\\mathrm{rep})$\",\n",
    "    color=plot_tools.lighten(\"C0\", 0.3),\n",
    ")\n",
    "plt.axvline(Ty, color=\"red\", label=\"$T(y)$\")\n",
    "plt.xlim((-0.5, 17.5))\n",
    "plt.title(\n",
    "    \"Binomial example - number of changes? \\n\"\n",
    "    r\"$\\operatorname{Pr}(T(y_\\mathrm{rep},\\theta) \\leq T(y,\\theta)|y) = $\"\n",
    "    + f\" {100*bayesian_p:.2f}%\",\n",
    "    fontsize=16,\n",
    ")\n",
    "plt.legend()\n",
    "plot_tools.modify_axes.only_x(plt.gca())\n",
    "plt.tight_layout()"
   ]
  },
  {
   "cell_type": "code",
   "execution_count": null,
   "metadata": {},
   "outputs": [],
   "source": []
  }
 ],
 "metadata": {
  "kernelspec": {
   "display_name": "Python 3",
   "language": "python",
   "name": "python3"
  },
  "language_info": {
   "codemirror_mode": {
    "name": "ipython",
    "version": 3
   },
   "file_extension": ".py",
   "mimetype": "text/x-python",
   "name": "python",
   "nbconvert_exporter": "python",
   "pygments_lexer": "ipython3",
   "version": "3.8.3"
  }
 },
 "nbformat": 4,
 "nbformat_minor": 4
}
