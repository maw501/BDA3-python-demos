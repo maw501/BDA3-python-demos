{
 "cells": [
  {
   "cell_type": "code",
   "execution_count": 1,
   "metadata": {},
   "outputs": [],
   "source": [
    "import numpy as np\n",
    "import pandas as pd\n",
    "\n",
    "from cmdstanpy import CmdStanModel, set_cmdstan_path\n",
    "from pathlib import Path\n",
    "\n",
    "import arviz\n",
    "\n",
    "import matplotlib.pyplot as plt\n",
    "\n",
    "set_cmdstan_path(\"/home/maw501/cmdstan\")"
   ]
  },
  {
   "cell_type": "code",
   "execution_count": 2,
   "metadata": {},
   "outputs": [],
   "source": [
    "def is_incident_smoker(arr):\n",
    "    arr = arr.values\n",
    "    if len(arr) == 1 or arr[0] == 1:\n",
    "        return False\n",
    "    try:\n",
    "        first_idx = np.argwhere(arr == 1)[0][0]\n",
    "        return np.mean(arr[first_idx : len(arr)]) == 1\n",
    "    except IndexError as ex:\n",
    "        return False"
   ]
  },
  {
   "cell_type": "code",
   "execution_count": 3,
   "metadata": {},
   "outputs": [],
   "source": [
    "def calculate_incident_smokers_test_statistic(\n",
    "    y_pred, df_y_rep, is_incident_smoker\n",
    "):\n",
    "    ts = []\n",
    "    for i in range(y_pred.shape[0]):\n",
    "        tmp_df = pd.DataFrame(\n",
    "            {\"smkreg\": y_pred[i], \"newid\": df_y_rep[\"newid\"]}\n",
    "        )\n",
    "        ts.append(\n",
    "            np.mean(tmp_df.groupby(\"newid\")[\"smkreg\"].agg(is_incident_smoker))\n",
    "        )\n",
    "    return ts"
   ]
  },
  {
   "cell_type": "code",
   "execution_count": 4,
   "metadata": {},
   "outputs": [],
   "source": [
    "def plot_ppc_hist(ax, test_statistic, test_statistic_y, quantiles, p_value, vline_height, bins=25):\n",
    "    ax.hist(test_statistic, bins=bins, color=\"#fa7268\")\n",
    "    ax.vlines(\n",
    "        quantiles[0], 0, vline_height, linestyle=\"--\", color=\"grey\"\n",
    "    )\n",
    "    ax.vlines(\n",
    "        quantiles[1], 0, vline_height, linestyle=\"--\", color=\"grey\"\n",
    "    )\n",
    "    ax.vlines(\n",
    "        test_statistic_y,\n",
    "        0,\n",
    "        vline_height,\n",
    "        linestyle=\"--\",\n",
    "        label=\"$T(y)$\",\n",
    "    )\n",
    "    ax.set_title(\n",
    "        f\"p-value: {p_value:.3f} \\n Test statistic y_rep 95% int: [{quantiles[0]*100:.1f}, {quantiles[1]*100:.1f}] \\n Test statistic y: {test_statistic_y*100:.1f}\"\n",
    "    )"
   ]
  },
  {
   "cell_type": "markdown",
   "metadata": {},
   "source": [
    "### Load data"
   ]
  },
  {
   "cell_type": "code",
   "execution_count": 5,
   "metadata": {},
   "outputs": [],
   "source": [
    "smoking_data = pd.read_table(\"../utilities_and_data/smoking/smoke_pub.dat\")\n",
    "num_people = smoking_data[\"newid\"].nunique()\n",
    "smoking_data[\"mean_waves_smoked\"] = smoking_data.groupby(\"newid\")[\n",
    "    \"smkreg\"\n",
    "].transform(\"mean\")\n",
    "\n",
    "never_smokers_test_statistic_y = (\n",
    "    smoking_data.groupby(\"newid\")[\"smkreg\"].agg(\"mean\") == 0\n",
    ").mean()\n",
    "always_smokers_test_statistic_y = (\n",
    "    smoking_data.groupby(\"newid\")[\"smkreg\"].agg(\"mean\") == 1\n",
    ").mean()\n",
    "\n",
    "incident_smokers_test_statistic_y = np.mean(\n",
    "    smoking_data.groupby(\"newid\")[\"smkreg\"].agg(is_incident_smoker)\n",
    ")"
   ]
  },
  {
   "cell_type": "code",
   "execution_count": 6,
   "metadata": {},
   "outputs": [
    {
     "data": {
      "image/png": "[encoded data removed]",
      "text/plain": [
       "<Figure size 576x432 with 1 Axes>"
      ]
     },
     "metadata": {
      "needs_background": "light"
     },
     "output_type": "display_data"
    }
   ],
   "source": [
    "fig, ax = plt.subplots(figsize=(8, 6))\n",
    "ax.plot(\n",
    "    smoking_data.loc[smoking_data[\"sex(1=F)\"] == 1]\n",
    "    .groupby(\"wave\")[\"smkreg\"]\n",
    "    .mean(),\n",
    "    label=\"girls\",\n",
    "    color=\"orange\",\n",
    "    linewidth=4\n",
    ")\n",
    "ax.plot(\n",
    "    smoking_data.loc[smoking_data[\"sex(1=F)\"] == 0]\n",
    "    .groupby(\"wave\")[\"smkreg\"]\n",
    "    .mean(),\n",
    "    label=\"boys\",\n",
    "    color=\"green\",\n",
    "    linewidth=4\n",
    ")\n",
    "ax.set_ylim(0, 0.2);\n",
    "ax.set_xlabel(\"Wave of study\");\n",
    "ax.set_ylabel(\"Proportion of smokers\")\n",
    "ax.legend();\n",
    "ax.set_title(\"Figure 6.6 from BDA3\");"
   ]
  },
  {
   "cell_type": "markdown",
   "metadata": {},
   "source": [
    "### Data"
   ]
  },
  {
   "cell_type": "code",
   "execution_count": 7,
   "metadata": {},
   "outputs": [],
   "source": [
    "stan_data = {\n",
    "    \"N_people\": num_people,\n",
    "    \"N\": len(smoking_data),\n",
    "    \"parent_smoke\": smoking_data[\"parsmk\"].values.astype(int),\n",
    "    \"female\": smoking_data[\"sex(1=F)\"].values.astype(int),\n",
    "    \"t\": smoking_data[\"wave\"].values.astype(int),\n",
    "    \"smoke\": smoking_data[\"smkreg\"].values.astype(int),\n",
    "    \"p_idx\": smoking_data[\"newid\"].values.astype(int),\n",
    "}"
   ]
  },
  {
   "cell_type": "markdown",
   "metadata": {},
   "source": [
    "### Fit model"
   ]
  },
  {
   "cell_type": "code",
   "execution_count": 8,
   "metadata": {},
   "outputs": [
    {
     "name": "stderr",
     "output_type": "stream",
     "text": [
      "INFO:cmdstanpy:found newer exe file, not recompiling\n",
      "INFO:cmdstanpy:compiled model file: /home/maw501/ML/maw501_github/BDA_py_demos/demos_ch6/stan_models/smoking\n"
     ]
    }
   ],
   "source": [
    "model = CmdStanModel(stan_file=\"stan_models/smoking.stan\")"
   ]
  },
  {
   "cell_type": "code",
   "execution_count": 9,
   "metadata": {},
   "outputs": [],
   "source": [
    "output_dir = Path(\"output\")\n",
    "output_dir.mkdir(exist_ok=True)"
   ]
  },
  {
   "cell_type": "code",
   "execution_count": null,
   "metadata": {},
   "outputs": [
    {
     "data": {
      "application/vnd.jupyter.widget-view+json": {
       "model_id": "702ab94d890f40cfa925a31af71d7150",
       "version_major": 2,
       "version_minor": 0
      },
      "text/plain": [
       "HBox(children=(FloatProgress(value=0.0, description='Chain 1 - warmup', max=1.0, style=ProgressStyle(descripti…"
      ]
     },
     "metadata": {},
     "output_type": "display_data"
    },
    {
     "data": {
      "application/vnd.jupyter.widget-view+json": {
       "model_id": "f7e6395df6524524af17335ed0157fd6",
       "version_major": 2,
       "version_minor": 0
      },
      "text/plain": [
       "HBox(children=(FloatProgress(value=0.0, description='Chain 2 - warmup', max=1.0, style=ProgressStyle(descripti…"
      ]
     },
     "metadata": {},
     "output_type": "display_data"
    },
    {
     "data": {
      "application/vnd.jupyter.widget-view+json": {
       "model_id": "c48ed569ede647f7bb9864657629b5a2",
       "version_major": 2,
       "version_minor": 0
      },
      "text/plain": [
       "HBox(children=(FloatProgress(value=0.0, description='Chain 3 - warmup', max=1.0, style=ProgressStyle(descripti…"
      ]
     },
     "metadata": {},
     "output_type": "display_data"
    },
    {
     "data": {
      "application/vnd.jupyter.widget-view+json": {
       "model_id": "9a8ef0af88504037ab55331c1632dd7c",
       "version_major": 2,
       "version_minor": 0
      },
      "text/plain": [
       "HBox(children=(FloatProgress(value=0.0, description='Chain 4 - warmup', max=1.0, style=ProgressStyle(descripti…"
      ]
     },
     "metadata": {},
     "output_type": "display_data"
    }
   ],
   "source": [
    "fit = model.sample(\n",
    "    data=stan_data,\n",
    "    output_dir=output_dir,\n",
    "    iter_warmup=1_000,\n",
    "    iter_sampling=1_000,\n",
    "    show_progress=\"notebook\",\n",
    ")"
   ]
  },
  {
   "cell_type": "code",
   "execution_count": null,
   "metadata": {},
   "outputs": [],
   "source": [
    "params = fit.stan_variables()\n",
    "var_names = [\"b0\", \"b1\", \"b2\", \"b3\", \"b4\", \"sigma_alpha\"]"
   ]
  },
  {
   "cell_type": "code",
   "execution_count": null,
   "metadata": {
    "scrolled": true
   },
   "outputs": [],
   "source": [
    "inference_data = arviz.convert_to_inference_data(fit)\n",
    "summary_df = (\n",
    "    arviz.summary(inference_data, var_names=var_names)\n",
    "    .reset_index()\n",
    "    .rename(columns={\"index\": \"parameter\"})\n",
    ")"
   ]
  },
  {
   "cell_type": "code",
   "execution_count": null,
   "metadata": {},
   "outputs": [],
   "source": [
    "arviz.plot_trace(fit, var_names=var_names);"
   ]
  },
  {
   "cell_type": "markdown",
   "metadata": {},
   "source": [
    "### Posterior predictive checking"
   ]
  },
  {
   "cell_type": "code",
   "execution_count": null,
   "metadata": {},
   "outputs": [],
   "source": [
    "df_y_rep = pd.DataFrame(params[\"y_pred\"]).T\n",
    "df_y_rep[\"newid\"] = smoking_data[\"newid\"].values\n",
    "df_y_rep_mean_per_person = df_y_rep.groupby(\"newid\").mean().values"
   ]
  },
  {
   "cell_type": "code",
   "execution_count": null,
   "metadata": {},
   "outputs": [],
   "source": [
    "qs = [0.025, 0.975]\n",
    "\n",
    "never_smokers_test_statistic = (df_y_rep_mean_per_person == 0).mean(0)\n",
    "never_smokers_quantiles = np.quantile(never_smokers_test_statistic, q=qs)\n",
    "\n",
    "always_smokers_test_statistic = (df_y_rep_mean_per_person == 1).mean(0)\n",
    "always_smokers_quantiles = np.quantile(always_smokers_test_statistic, q=qs)\n",
    "\n",
    "incident_smokers_test_statistic = calculate_incident_smokers_test_statistic(\n",
    "    params[\"y_pred\"].values, df_y_rep, is_incident_smoker\n",
    ")\n",
    "incident_smokers_quantiles = np.quantile(incident_smokers_test_statistic, q=qs)"
   ]
  },
  {
   "cell_type": "code",
   "execution_count": null,
   "metadata": {},
   "outputs": [],
   "source": [
    "never_smokers_p_value = np.mean(\n",
    "    never_smokers_test_statistic > never_smokers_test_statistic_y\n",
    ")\n",
    "always_smokers_p_value = np.mean(\n",
    "    always_smokers_test_statistic > always_smokers_test_statistic_y\n",
    ")\n",
    "incident_smokers_p_value = np.mean(\n",
    "    incident_smokers_test_statistic > incident_smokers_test_statistic_y\n",
    ")"
   ]
  },
  {
   "cell_type": "code",
   "execution_count": null,
   "metadata": {},
   "outputs": [],
   "source": [
    "bins = 25\n",
    "vline_height = 300\n",
    "\n",
    "fig, ax = plt.subplots(1, 3, figsize=(18, 6), sharey=True)\n",
    "\n",
    "plot_ppc_hist(ax[0], \n",
    "              never_smokers_test_statistic, \n",
    "              never_smokers_test_statistic_y, \n",
    "              never_smokers_quantiles, \n",
    "              never_smokers_p_value, \n",
    "              vline_height)\n",
    "plot_ppc_hist(ax[1], \n",
    "              never_smokers_test_statistic, \n",
    "              always_smokers_test_statistic_y, \n",
    "              always_smokers_quantiles, \n",
    "              always_smokers_p_value, \n",
    "              vline_height)\n",
    "plot_ppc_hist(ax[2], \n",
    "              incident_smokers_test_statistic, \n",
    "              incident_smokers_test_statistic_y, \n",
    "              incident_smokers_quantiles, \n",
    "              incident_smokers_p_value, \n",
    "              vline_height)\n",
    "\n",
    "plt.suptitle(\"BDA3 Table 6.1 - Model 1\", y=1.05, fontsize=16);"
   ]
  },
  {
   "cell_type": "markdown",
   "metadata": {},
   "source": [
    "### Fit mixture model\n",
    "\n",
    "Repeat the above analysis for a mixture model now."
   ]
  },
  {
   "cell_type": "code",
   "execution_count": null,
   "metadata": {},
   "outputs": [],
   "source": [
    "model_mix = CmdStanModel(stan_file=\"stan_models/smoking_mixture.stan\")"
   ]
  },
  {
   "cell_type": "code",
   "execution_count": null,
   "metadata": {
    "scrolled": true
   },
   "outputs": [],
   "source": [
    "fit_mix = model_mix.sample(\n",
    "    data=stan_data,\n",
    "    output_dir=output_dir,\n",
    "    iter_warmup=1_000,\n",
    "    iter_sampling=2_000,\n",
    "    show_progress=\"notebook\",\n",
    ")"
   ]
  },
  {
   "cell_type": "code",
   "execution_count": null,
   "metadata": {},
   "outputs": [],
   "source": [
    "params_mix = fit_mix.stan_variables()"
   ]
  },
  {
   "cell_type": "code",
   "execution_count": null,
   "metadata": {},
   "outputs": [],
   "source": [
    "var_names_mix = [\"b0\", \"b1\", \"b2\", \"b3\", \"b4\", \"gamma_0\", \"gamma_1\", \"gamma_2\", \"sigma_alpha\"]"
   ]
  },
  {
   "cell_type": "code",
   "execution_count": null,
   "metadata": {},
   "outputs": [],
   "source": [
    "inference_data_mix = arviz.convert_to_inference_data(fit_mix)\n",
    "summary_df_mix = (\n",
    "    arviz.summary(inference_data_mix, var_names=var_names_mix)\n",
    "    .reset_index()\n",
    "    .rename(columns={\"index\": \"parameter\"})\n",
    ")"
   ]
  },
  {
   "cell_type": "code",
   "execution_count": null,
   "metadata": {},
   "outputs": [],
   "source": [
    "summary_df_mix.head(10)"
   ]
  },
  {
   "cell_type": "code",
   "execution_count": null,
   "metadata": {},
   "outputs": [],
   "source": [
    "arviz.plot_trace(fit_mix, var_names=var_names_mix);"
   ]
  },
  {
   "cell_type": "code",
   "execution_count": null,
   "metadata": {},
   "outputs": [],
   "source": [
    "df_y_rep_mix = pd.DataFrame(params_mix[\"y_pred\"]).T\n",
    "df_y_rep_mix[\"newid\"] = smoking_data[\"newid\"].values\n",
    "df_y_rep_mean_per_person_mix = df_y_rep_mix.groupby(\"newid\").mean().values"
   ]
  },
  {
   "cell_type": "code",
   "execution_count": null,
   "metadata": {},
   "outputs": [],
   "source": [
    "never_smokers_test_statistic_mix = (df_y_rep_mean_per_person_mix == 0).mean(0)\n",
    "never_smokers_quantiles_mix = np.quantile(never_smokers_test_statistic_mix, q=qs)\n",
    "\n",
    "always_smokers_test_statistic_mix = (df_y_rep_mean_per_person_mix == 1).mean(0)\n",
    "always_smokers_quantiles_mix = np.quantile(always_smokers_test_statistic_mix, q=qs)\n",
    "\n",
    "incident_smokers_test_statistic_mix = calculate_incident_smokers_test_statistic(\n",
    "    params_mix[\"y_pred\"].values, df_y_rep_mix, is_incident_smoker\n",
    ")\n",
    "incident_smokers_quantiles_mix = np.quantile(incident_smokers_test_statistic_mix, q=qs)"
   ]
  },
  {
   "cell_type": "code",
   "execution_count": null,
   "metadata": {},
   "outputs": [],
   "source": [
    "never_smokers_p_value_mix = np.mean(\n",
    "    never_smokers_test_statistic_mix > never_smokers_test_statistic_y\n",
    ")\n",
    "always_smokers_p_value_mix = np.mean(\n",
    "    always_smokers_test_statistic_mix > always_smokers_test_statistic_y\n",
    ")\n",
    "incident_smokers_p_value_mix = np.mean(\n",
    "    incident_smokers_test_statistic_mix > incident_smokers_test_statistic_y\n",
    ")"
   ]
  },
  {
   "cell_type": "code",
   "execution_count": null,
   "metadata": {},
   "outputs": [],
   "source": [
    "bins = 25\n",
    "vline_height = 750\n",
    "\n",
    "fig, ax = plt.subplots(1, 3, figsize=(18, 6), sharey=True)\n",
    "\n",
    "plot_ppc_hist(ax[0], \n",
    "              never_smokers_test_statistic_mix, \n",
    "              never_smokers_test_statistic_y, \n",
    "              never_smokers_quantiles_mix, \n",
    "              never_smokers_p_value_mix, \n",
    "              vline_height)\n",
    "plot_ppc_hist(ax[1], \n",
    "              always_smokers_test_statistic_mix, \n",
    "              always_smokers_test_statistic_y, \n",
    "              always_smokers_quantiles_mix, \n",
    "              always_smokers_p_value_mix, \n",
    "              vline_height)\n",
    "plot_ppc_hist(ax[2], \n",
    "              incident_smokers_test_statistic_mix, \n",
    "              incident_smokers_test_statistic_y, \n",
    "              incident_smokers_quantiles_mix, \n",
    "              incident_smokers_p_value_mix, \n",
    "              vline_height)\n",
    "\n",
    "plt.suptitle(\"BDA3 Table 6.1 - Model 2\", y=1.05, fontsize=16);"
   ]
  },
  {
   "cell_type": "code",
   "execution_count": null,
   "metadata": {},
   "outputs": [],
   "source": []
  }
 ],
 "metadata": {
  "kernelspec": {
   "display_name": "Python 3",
   "language": "python",
   "name": "python3"
  },
  "language_info": {
   "codemirror_mode": {
    "name": "ipython",
    "version": 3
   },
   "file_extension": ".py",
   "mimetype": "text/x-python",
   "name": "python",
   "nbconvert_exporter": "python",
   "pygments_lexer": "ipython3",
   "version": "3.8.3"
  }
 },
 "nbformat": 4,
 "nbformat_minor": 4
}
